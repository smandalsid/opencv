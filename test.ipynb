{
 "cells": [
  {
   "cell_type": "code",
   "execution_count": 1,
   "metadata": {},
   "outputs": [],
   "source": [
    "import numpy as np"
   ]
  },
  {
   "cell_type": "code",
   "execution_count": 10,
   "metadata": {},
   "outputs": [
    {
     "data": {
      "text/plain": [
       "array([[[255., 153.,  10.],\n",
       "        [255., 153.,  10.],\n",
       "        [255., 153.,  10.],\n",
       "        ...,\n",
       "        [255., 153.,  10.],\n",
       "        [255., 153.,  10.],\n",
       "        [255., 153.,  10.]],\n",
       "\n",
       "       [[255., 153.,  10.],\n",
       "        [255., 153.,  10.],\n",
       "        [255., 153.,  10.],\n",
       "        ...,\n",
       "        [255., 153.,  10.],\n",
       "        [255., 153.,  10.],\n",
       "        [255., 153.,  10.]],\n",
       "\n",
       "       [[255., 153.,  10.],\n",
       "        [255., 153.,  10.],\n",
       "        [255., 153.,  10.],\n",
       "        ...,\n",
       "        [255., 153.,  10.],\n",
       "        [255., 153.,  10.],\n",
       "        [255., 153.,  10.]],\n",
       "\n",
       "       ...,\n",
       "\n",
       "       [[255., 153.,  10.],\n",
       "        [255., 153.,  10.],\n",
       "        [255., 153.,  10.],\n",
       "        ...,\n",
       "        [255., 153.,  10.],\n",
       "        [255., 153.,  10.],\n",
       "        [255., 153.,  10.]],\n",
       "\n",
       "       [[255., 153.,  10.],\n",
       "        [255., 153.,  10.],\n",
       "        [255., 153.,  10.],\n",
       "        ...,\n",
       "        [255., 153.,  10.],\n",
       "        [255., 153.,  10.],\n",
       "        [255., 153.,  10.]],\n",
       "\n",
       "       [[255., 153.,  10.],\n",
       "        [255., 153.,  10.],\n",
       "        [255., 153.,  10.],\n",
       "        ...,\n",
       "        [255., 153.,  10.],\n",
       "        [255., 153.,  10.],\n",
       "        [255., 153.,  10.]]])"
      ]
     },
     "execution_count": 10,
     "metadata": {},
     "output_type": "execute_result"
    }
   ],
   "source": [
    "img=np.full((720, 1280, 3), 0, np.float64)\n",
    "img[:, :]=255, 153, 10\n",
    "img"
   ]
  },
  {
   "cell_type": "code",
   "execution_count": 7,
   "metadata": {},
   "outputs": [
    {
     "data": {
      "text/plain": [
       "numpy.float64"
      ]
     },
     "execution_count": 7,
     "metadata": {},
     "output_type": "execute_result"
    }
   ],
   "source": [
    "ar=np.zeros((5,10))\n",
    "type(ar[0][0])"
   ]
  }
 ],
 "metadata": {
  "interpreter": {
   "hash": "0deb526261ba81fede83047b7f92742a88cc3de97a4131889ecd2ff4e3100093"
  },
  "kernelspec": {
   "display_name": "Python 3.8.10 ('opencv_tut': venv)",
   "language": "python",
   "name": "python3"
  },
  "language_info": {
   "codemirror_mode": {
    "name": "ipython",
    "version": 3
   },
   "file_extension": ".py",
   "mimetype": "text/x-python",
   "name": "python",
   "nbconvert_exporter": "python",
   "pygments_lexer": "ipython3",
   "version": "3.8.10"
  },
  "orig_nbformat": 4
 },
 "nbformat": 4,
 "nbformat_minor": 2
}
